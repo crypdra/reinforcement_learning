{
 "cells": [
  {
   "cell_type": "code",
   "execution_count": null,
   "metadata": {},
   "outputs": [],
   "source": [
    "import tensorflow as tf\n",
    "import numpy as np\n",
    "import gym"
   ]
  },
  {
   "cell_type": "markdown",
   "metadata": {},
   "source": [
    "# Create and setup environment"
   ]
  },
  {
   "cell_type": "code",
   "execution_count": null,
   "metadata": {},
   "outputs": [],
   "source": [
    "env = gym.make('MountainCar-v0')\n",
    "env = env.unwrapped\n",
    "\n",
    "env.seed(1)\n",
    "\n",
    "state_size = 2\n",
    "action_size = env.action_space.n\n",
    "\n",
    "max_episodes = 1000\n",
    "learning_rate = 0.01\n",
    "gamma = 0.95 # Discount rate"
   ]
  },
  {
   "cell_type": "markdown",
   "metadata": {},
   "source": [
    "# Discounted Rewards"
   ]
  },
  {
   "cell_type": "code",
   "execution_count": null,
   "metadata": {},
   "outputs": [],
   "source": [
    "def discount_and_normalize_rewards(episode_rewards):\n",
    "    discounted_episode_rewards = np.zeros_like(episode_rewards)\n",
    "    cumulative = 0.0\n",
    "    for i in reversed(range(len(episode_rewards))):\n",
    "        cumulative = cumulative * gamma + episode_rewards[i]\n",
    "        discounted_episode_rewards[i] = cumulative\n",
    "    \n",
    "    mean = np.mean(discounted_episode_rewards)\n",
    "    std = np.std(discounted_episode_rewards)\n",
    "    discounted_episode_rewards = (discounted_episode_rewards - mean) / (std)\n",
    "    \n",
    "    return discounted_episode_rewards"
   ]
  },
  {
   "cell_type": "markdown",
   "metadata": {},
   "source": [
    "# Neural Network"
   ]
  },
  {
   "cell_type": "code",
   "execution_count": null,
   "metadata": {},
   "outputs": [],
   "source": [
    "import time\n",
    "\n",
    "g = tf.Graph()\n",
    "with g.as_default():\n",
    "    with tf.name_scope(\"inputs\"):\n",
    "        input_ = tf.placeholder(tf.float32, [None, state_size], name=\"input_\")\n",
    "        actions = tf.placeholder(tf.int32, [None, action_size], name=\"actions\")\n",
    "        discounted_episode_rewards_ = tf.placeholder(tf.float32, [None,], name=\"discounted_episode_rewards\")\n",
    "\n",
    "        # Add this placeholder for having this variable in tensorboard\n",
    "        mean_reward_ = tf.placeholder(tf.float32 , name=\"mean_reward\")\n",
    "        avg_loss = tf.placeholder(tf.float32, name=\"avg_loss\")\n",
    "        \n",
    "        with tf.name_scope(\"fc1\"):\n",
    "            fc1 = tf.contrib.layers.fully_connected(inputs = input_,\n",
    "                                                    num_outputs = 30, weights_regularizer=tf.contrib.layers.l2_regularizer(0.001),\n",
    "                                                    activation_fn=tf.nn.relu,\n",
    "                                                    weights_initializer=tf.contrib.layers.xavier_initializer())\n",
    "\n",
    "        with tf.name_scope(\"fc2\"):\n",
    "            fc2 = tf.contrib.layers.fully_connected(inputs = fc1,\n",
    "                                                    num_outputs = 10,  weights_regularizer=tf.contrib.layers.l2_regularizer(0.001),\n",
    "                                                    activation_fn= tf.nn.relu,\n",
    "                                                    weights_initializer=tf.contrib.layers.xavier_initializer())\n",
    "\n",
    "        with tf.name_scope(\"fc3\"):\n",
    "            fc3 = tf.contrib.layers.fully_connected(inputs = fc2,\n",
    "                                                    num_outputs = action_size,  weights_regularizer=tf.contrib.layers.l2_regularizer(0.001),\n",
    "                                                    activation_fn= None,\n",
    "                                                    weights_initializer=tf.contrib.layers.xavier_initializer())\n",
    "\n",
    "        with tf.name_scope(\"softmax\"):\n",
    "            action_distribution = tf.nn.softmax(fc3)\n",
    "\n",
    "        with tf.name_scope(\"loss\"):\n",
    "            # tf.nn.softmax_cross_entropy_with_logits computes the cross entropy of the result after applying the softmax function\n",
    "            # If you have single-class labels, where an object can only belong to one class, you might now consider using \n",
    "            # tf.nn.sparse_softmax_cross_entropy_with_logits so that you don't have to convert your labels to a dense one-hot array.\n",
    "            #time.sleep(4)\n",
    "            reg_losses = tf.get_collection(tf.GraphKeys.REGULARIZATION_LOSSES)\n",
    "            reg_constant = 0.01  # Choose an appropriate one.\n",
    "            neg_log_prob = tf.nn.softmax_cross_entropy_with_logits_v2(logits = fc3, labels = actions)\n",
    "            loss = tf.reduce_mean(neg_log_prob * discounted_episode_rewards_) + reg_constant * sum(reg_losses)\n",
    "\n",
    "\n",
    "        with tf.name_scope(\"train\"):\n",
    "            train_opt = tf.train.AdamOptimizer(learning_rate).minimize(loss)"
   ]
  },
  {
   "cell_type": "markdown",
   "metadata": {
    "collapsed": true
   },
   "source": [
    "# Setup Tensorboard"
   ]
  },
  {
   "cell_type": "code",
   "execution_count": null,
   "metadata": {},
   "outputs": [],
   "source": [
    "# Setup TensorBoard Writer\n",
    "with g.as_default():\n",
    "    writer = tf.summary.FileWriter(\"./tensorboard/pg/2\", g)\n",
    "\n",
    "    ## Losses\n",
    "    tf.summary.scalar(\"Loss\", loss)\n",
    "\n",
    "    ## Loss / Avg\n",
    "    tf.summary.scalar(\"Average-Loss\", avg_loss)\n",
    "    \n",
    "    ## Reward mean\n",
    "    tf.summary.scalar(\"Reward_mean\", mean_reward_)\n",
    "\n",
    "    write_op = tf.summary.merge_all()"
   ]
  },
  {
   "cell_type": "markdown",
   "metadata": {},
   "source": [
    "# Train Agent "
   ]
  },
  {
   "cell_type": "code",
   "execution_count": null,
   "metadata": {},
   "outputs": [],
   "source": [
    "allRewards = []\n",
    "total_rewards = 0\n",
    "maximumRewardRecorded = 0\n",
    "episode = 0\n",
    "episode_states, episode_actions, episode_rewards = [],[],[]\n",
    "losses = []\n",
    "avgloss = 1\n",
    "with g.as_default():\n",
    "    saver = tf.train.Saver()\n",
    "\n",
    "env.reset()\n",
    "\n",
    "with tf.Session(graph=g) as sess:\n",
    "    sess.run(tf.global_variables_initializer())\n",
    "    \n",
    "    # each episode is one trajectory\n",
    "    for episode in range(max_episodes):\n",
    "        episode_rewards_sum = 0\n",
    "        state = env.reset()\n",
    "        env.render()\n",
    "        step=1\n",
    "        while True:\n",
    "            step+=1\n",
    "            if(episode % 100 == 0 and episode != 0):\n",
    "                env.render()\n",
    "            # Choose action a, remember WE'RE NOT IN A DETERMINISTIC ENVIRONMENT, WE'RE OUTPUT PROBABILITIES.\n",
    "            action_probability_distribution = sess.run(action_distribution, feed_dict={input_: state.reshape([1,2])})\n",
    "            \n",
    "            action = np.random.choice(range(action_probability_distribution.shape[1]), p=action_probability_distribution.ravel())  # select action w.r.t the actions prob\n",
    "\n",
    "            # Perform a\n",
    "            new_state, reward, done, info = env.step(action)\n",
    "            if(step>2500):\n",
    "                done=True\n",
    "            # Store s, a, r\n",
    "            episode_states.append(state)\n",
    "                        \n",
    "            # For actions because we output only one (the index) we need 2 (1 is for the action taken)\n",
    "            # We need [0., 1.] (if we take right) not just the index\n",
    "            action_ = np.zeros(action_size)\n",
    "            action_[action] = 1\n",
    "            \n",
    "            episode_actions.append(action_)\n",
    "            \n",
    "            episode_rewards.append(reward)\n",
    "            if done:\n",
    "                # Calculate sum reward\n",
    "                episode_rewards_sum = np.sum(episode_rewards)\n",
    "                \n",
    "                allRewards.append(episode_rewards_sum)\n",
    "                \n",
    "                total_rewards = np.sum(allRewards)\n",
    "                \n",
    "                # Mean reward\n",
    "                mean_reward = np.divide(total_rewards, episode+1)\n",
    "                \n",
    "                \n",
    "                maximumRewardRecorded = np.amax(allRewards)\n",
    "                \n",
    "                print(\"==========================================\")\n",
    "                print(\"Episode: \", episode)\n",
    "                print(\"Reward: \", episode_rewards_sum)\n",
    "                print(\"Mean Reward\", mean_reward)\n",
    "                print(\"Max reward so far: \", maximumRewardRecorded)\n",
    "                \n",
    "                # Calculate discounted reward\n",
    "                discounted_episode_rewards = discount_and_normalize_rewards(episode_rewards)\n",
    "                                \n",
    "                # Feedforward, gradient and backpropagation\n",
    "                loss_, train_, fc3_, actions_ = sess.run([loss, train_opt, fc3, action_distribution], feed_dict={input_: np.vstack(np.array(episode_states)),\n",
    "                                                                 actions: np.vstack(np.array(episode_actions)),\n",
    "                                                                 discounted_episode_rewards_: discounted_episode_rewards \n",
    "                                                                })\n",
    "                losses.append(loss_)\n",
    "                avgloss = np.mean(losses)\n",
    "                print(loss_)\n",
    "                #print(actions_)\n",
    " \n",
    "                                                                 \n",
    "                # Write TF Summaries\n",
    "                summary = sess.run(write_op, feed_dict={input_: np.vstack(np.array(episode_states)),\n",
    "                                                                 actions: np.vstack(np.array(episode_actions)),\n",
    "                                                                 discounted_episode_rewards_: discounted_episode_rewards,\n",
    "                                                                    mean_reward_: mean_reward,\n",
    "                                                                avg_loss: avgloss\n",
    "                                                                })\n",
    "                \n",
    "               \n",
    "                writer.add_summary(summary, episode)\n",
    "                writer.flush()\n",
    "                \n",
    "            \n",
    "                \n",
    "                # Reset the transition stores\n",
    "                episode_states, episode_actions, episode_rewards = [],[],[]\n",
    "                \n",
    "                break\n",
    "            \n",
    "            state = new_state\n",
    "        \n",
    "        # Save Model\n",
    "        if episode % 100 == 0:\n",
    "            saver.save(sess, \"./models/model.ckpt\")\n",
    "            print(\"Model saved\")"
   ]
  },
  {
   "cell_type": "code",
   "execution_count": null,
   "metadata": {},
   "outputs": [],
   "source": []
  },
  {
   "cell_type": "code",
   "execution_count": null,
   "metadata": {},
   "outputs": [],
   "source": []
  }
 ],
 "metadata": {
  "kernelspec": {
   "display_name": "Python 3",
   "language": "python",
   "name": "python3"
  },
  "language_info": {
   "codemirror_mode": {
    "name": "ipython",
    "version": 3
   },
   "file_extension": ".py",
   "mimetype": "text/x-python",
   "name": "python",
   "nbconvert_exporter": "python",
   "pygments_lexer": "ipython3",
   "version": "3.5.6"
  }
 },
 "nbformat": 4,
 "nbformat_minor": 2
}
